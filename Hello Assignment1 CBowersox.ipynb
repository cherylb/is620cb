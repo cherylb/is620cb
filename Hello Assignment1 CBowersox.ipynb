{
 "cells": [
  {
   "cell_type": "markdown",
   "metadata": {},
   "source": [
    "# Hello, Graph World \n",
    "### IS620 Assignment 1 Week 2\n",
    "### Cheryl Bowersox"
   ]
  },
  {
   "cell_type": "code",
   "execution_count": 27,
   "metadata": {
    "collapsed": false,
    "scrolled": true
   },
   "outputs": [],
   "source": [
    "# libraries\n",
    "import graphlab as gl\n",
    "gl.canvas.set_target('ipynb')"
   ]
  },
  {
   "cell_type": "code",
   "execution_count": 28,
   "metadata": {
    "collapsed": true
   },
   "outputs": [],
   "source": [
    "from graphlab import SGraph, Vertex, Edge, SFrame"
   ]
  },
  {
   "cell_type": "code",
   "execution_count": 29,
   "metadata": {
    "collapsed": false,
    "scrolled": true
   },
   "outputs": [],
   "source": [
    "# Create graph\n",
    "g = SGraph()"
   ]
  },
  {
   "cell_type": "code",
   "execution_count": 30,
   "metadata": {
    "collapsed": false
   },
   "outputs": [],
   "source": [
    "#Add Vertices manually\n",
    "verts = [Vertex(0, attr={'name': 'Andre'}),\n",
    "             Vertex(1, attr={'name': 'Beverly'}),\n",
    "             Vertex(2, attr={'name': 'Carol'}),\n",
    "             Vertex(3, attr={'name': 'Diane'}),\n",
    "             Vertex(4, attr={'name': 'Ed'}),\n",
    "             Vertex(5, attr={'name': 'Fernando'}),\n",
    "             Vertex(6, attr={'name': 'Garth'}),\n",
    "             Vertex(7, attr={'name': 'Heather'}),\n",
    "             Vertex(8, attr={'name': 'Ike'}),\n",
    "             Vertex(9, attr={'name': 'Jane'})]\n",
    "g = g.add_vertices(verts)\n"
   ]
  },
  {
   "cell_type": "code",
   "execution_count": 31,
   "metadata": {
    "collapsed": true
   },
   "outputs": [],
   "source": [
    "#Add Edges for Andre\n",
    "edgA = [Edge(0, 1),\n",
    "        Edge(0, 2),\n",
    "        Edge(0, 3),\n",
    "        Edge(0, 5)]\n",
    "\n",
    "g = g.add_edges(edgA)\n"
   ]
  },
  {
   "cell_type": "code",
   "execution_count": 32,
   "metadata": {
    "collapsed": false
   },
   "outputs": [],
   "source": [
    "#Add Edges for Bev\n",
    "edgB = [Edge(1, 3),\n",
    "        Edge(1, 4),\n",
    "        Edge(1, 6)]\n",
    "\n",
    "g = g.add_edges(edgB)\n"
   ]
  },
  {
   "cell_type": "code",
   "execution_count": 33,
   "metadata": {
    "collapsed": false
   },
   "outputs": [],
   "source": [
    "#Add Edges for Carl\n",
    "edgC = [Edge(2, 3),\n",
    "        Edge(2, 5)]\n",
    "        \n",
    "\n",
    "g = g.add_edges(edgC)\n",
    "#g.show( vlabel='name')"
   ]
  },
  {
   "cell_type": "code",
   "execution_count": 34,
   "metadata": {
    "collapsed": false
   },
   "outputs": [],
   "source": [
    "#Add Edges for Diane\n",
    "edgD = [Edge(3, 4),\n",
    "        Edge(3, 5),\n",
    "        Edge(3, 6)]\n",
    "\n",
    "g = g.add_edges(edgD)\n",
    "\n",
    "#Add Edges for Ed, Fernando, Heather et al.\n",
    "edgEt = [Edge(4, 6),\n",
    "         Edge(5, 6),\n",
    "         Edge(5, 7),\n",
    "         Edge(6, 7),\n",
    "         Edge(7, 8),\n",
    "         Edge(8, 9)]\n",
    "\n",
    "g = g.add_edges(edgEt)\n",
    "\n"
   ]
  },
  {
   "cell_type": "code",
   "execution_count": 35,
   "metadata": {
    "collapsed": false,
    "scrolled": true
   },
   "outputs": [
    {
     "data": {
      "application/javascript": [
       "$(\"head\").append($(\"<link/>\").attr({\n",
       "  rel:  \"stylesheet\",\n",
       "  type: \"text/css\",\n",
       "  href: \"//cdnjs.cloudflare.com/ajax/libs/font-awesome/4.1.0/css/font-awesome.min.css\"\n",
       "}));\n",
       "$(\"head\").append($(\"<link/>\").attr({\n",
       "  rel:  \"stylesheet\",\n",
       "  type: \"text/css\",\n",
       "  href: \"https://static.turi.com/products/graphlab-create/2.1/canvas/css/canvas.css\"\n",
       "}));\n",
       "\n",
       "            (function(){\n",
       "\n",
       "                var e = null;\n",
       "                if (typeof element == 'undefined') {\n",
       "                    var scripts = document.getElementsByTagName('script');\n",
       "                    var thisScriptTag = scripts[scripts.length-1];\n",
       "                    var parentDiv = thisScriptTag.parentNode;\n",
       "                    e = document.createElement('div');\n",
       "                    parentDiv.appendChild(e);\n",
       "                } else {\n",
       "                    e = element[0];\n",
       "                }\n",
       "\n",
       "                if (typeof requirejs !== 'undefined') {\n",
       "                    // disable load timeout; ipython_app.js is large and can take a while to load.\n",
       "                    requirejs.config({waitSeconds: 0});\n",
       "                }\n",
       "\n",
       "                require(['https://static.turi.com/products/graphlab-create/2.1/canvas/js/ipython_app.js'], function(IPythonApp){\n",
       "                    var app = new IPythonApp();\n",
       "                    app.attachView('sgraph','View', {\"edges_labels\": null, \"selected_variable\": {\"name\": [\"g\"], \"view_file\": \"sgraph\", \"view_component\": \"View\", \"view_params\": {\"elabel_hover\": false, \"vertex_positions\": null, \"h_offset\": 0.0, \"node_size\": 300, \"ecolor\": [0.37, 0.33, 0.33], \"elabel\": null, \"arrows\": false, \"ewidth\": 1, \"vlabel\": \"name\", \"highlight_color\": [0.69, 0.0, 0.498], \"vcolor\": [0.522, 0.741, 0.0], \"vlabel_hover\": false, \"highlight\": {}, \"v_offset\": 0.03}, \"view_components\": [\"View\"], \"type\": \"SGraph\", \"descriptives_links\": {\"edges\": \"edges\", \"vertices\": \"vertices\"}, \"descriptives\": {\"edges\": 18, \"vertices\": 10}}, \"positions\": null, \"error_type\": 0, \"vertices\": [8, 7, 5, 0, 2, 9, 6, 3, 1, 4], \"vertices_labels\": [\"Ike\", \"Heather\", \"Fernando\", \"Andre\", \"Carol\", \"Jane\", \"Garth\", \"Diane\", \"Beverly\", \"Ed\"], \"edges\": [[5, 7], [7, 8], [5, 6], [8, 9], [0, 5], [0, 2], [0, 3], [0, 1], [2, 5], [2, 3], [6, 7], [3, 5], [3, 6], [3, 4], [1, 6], [1, 3], [1, 4], [4, 6]], \"ipython\": true, \"error_msg\": \"\"}, e);\n",
       "                });\n",
       "            })();\n",
       "        "
      ]
     },
     "metadata": {},
     "output_type": "display_data"
    }
   ],
   "source": [
    "g.show( vlabel='name')"
   ]
  },
  {
   "cell_type": "code",
   "execution_count": null,
   "metadata": {
    "collapsed": true
   },
   "outputs": [],
   "source": []
  }
 ],
 "metadata": {
  "kernelspec": {
   "display_name": "Python 2",
   "language": "python",
   "name": "python2"
  },
  "language_info": {
   "codemirror_mode": {
    "name": "ipython",
    "version": 2
   },
   "file_extension": ".py",
   "mimetype": "text/x-python",
   "name": "python",
   "nbconvert_exporter": "python",
   "pygments_lexer": "ipython2",
   "version": "2.7.11"
  }
 },
 "nbformat": 4,
 "nbformat_minor": 0
}
